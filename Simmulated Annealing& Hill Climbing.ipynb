{
 "cells": [
  {
   "cell_type": "markdown",
   "metadata": {},
   "source": [
    "##### Shubham P Sharma"
   ]
  },
  {
   "cell_type": "code",
   "execution_count": 16,
   "metadata": {
    "collapsed": true
   },
   "outputs": [],
   "source": [
    "import pandas as pd\n",
    "import numpy as np\n",
    "import random\n",
    "import math"
   ]
  },
  {
   "cell_type": "code",
   "execution_count": null,
   "metadata": {
    "collapsed": true
   },
   "outputs": [],
   "source": []
  },
  {
   "cell_type": "code",
   "execution_count": 17,
   "metadata": {
    "collapsed": true
   },
   "outputs": [],
   "source": [
    "#print(lines)"
   ]
  },
  {
   "cell_type": "code",
   "execution_count": 18,
   "metadata": {
    "collapsed": true
   },
   "outputs": [],
   "source": [
    "data = pd.read_table('3sat.txt', delim_whitespace=True, names=[\"A\",\"B\",\"C\",\"o\"])"
   ]
  },
  {
   "cell_type": "code",
   "execution_count": null,
   "metadata": {
    "collapsed": true
   },
   "outputs": [],
   "source": [
    "\n"
   ]
  },
  {
   "cell_type": "code",
   "execution_count": 19,
   "metadata": {
    "collapsed": true
   },
   "outputs": [],
   "source": [
    "data1=data[['A','B','C']]"
   ]
  },
  {
   "cell_type": "code",
   "execution_count": 20,
   "metadata": {
    "collapsed": true
   },
   "outputs": [],
   "source": [
    "#data1.head()\n"
   ]
  },
  {
   "cell_type": "code",
   "execution_count": 21,
   "metadata": {
    "collapsed": true
   },
   "outputs": [],
   "source": [
    "x=np.zeros(102)\n",
    "#print(x)\n",
    "\n",
    "            "
   ]
  },
  {
   "cell_type": "code",
   "execution_count": 22,
   "metadata": {
    "collapsed": true
   },
   "outputs": [],
   "source": [
    "for i in range (0,100):\n",
    "    if(i%2 !=0):\n",
    "        \n",
    "        x[i] = 0\n",
    "        \n",
    "    else:\n",
    "            \n",
    "        x[i]=1\n",
    "#for i in range(0,101):\n",
    "    \n",
    "    #print(i)\n",
    "    #print(x[i])"
   ]
  },
  {
   "cell_type": "code",
   "execution_count": 23,
   "metadata": {
    "collapsed": true
   },
   "outputs": [],
   "source": [
    "data1['value'] =np.nan"
   ]
  },
  {
   "cell_type": "code",
   "execution_count": 24,
   "metadata": {
    "collapsed": true
   },
   "outputs": [],
   "source": [
    "def val(x,data1):\n",
    "    \n",
    "    y=0 \n",
    "    for i in range(0,425):\n",
    "\n",
    "            x1=data1.iloc[i,0]\n",
    "            x2=data1.iloc[i,1]\n",
    "            x3=data1.iloc[i,2]\n",
    "\n",
    "            if(x1<0):\n",
    "                x1=-1*x1\n",
    "\n",
    "                v1=not x[x1]\n",
    "\n",
    "\n",
    "            else:\n",
    "                v1=x[x1]\n",
    "\n",
    "\n",
    "\n",
    "            if(x2<0):\n",
    "                x2=-1*x2\n",
    "                v2= not x[x2]\n",
    "\n",
    "\n",
    "            else:\n",
    "                v2=x[x2]\n",
    "\n",
    "\n",
    "            if(x3<0):\n",
    "                x3=-1*x3\n",
    "                v3=not x[x3]\n",
    "\n",
    "\n",
    "            else:\n",
    "                v3=x[x3]\n",
    "\n",
    "\n",
    "            result=v1 or v2 or v3\n",
    "            data1.loc[i,'value']=result\n",
    "            \n",
    "               \n",
    "            x4=data1.iloc[i,3]\n",
    "            if x4 == True :\n",
    "                y = y+1\n",
    "\n",
    "    #print(y)\n",
    "    return y"
   ]
  },
  {
   "cell_type": "code",
   "execution_count": 25,
   "metadata": {
    "collapsed": true
   },
   "outputs": [],
   "source": [
    "def val111(x,data1):\n",
    "    \n",
    "    y=0 \n",
    "    for i in range(0,425):\n",
    "\n",
    "            x1=data1.iloc[i,0]\n",
    "            x2=data1.iloc[i,1]\n",
    "            x3=data1.iloc[i,2]\n",
    "\n",
    "            if(x1<0):\n",
    "                x1=-1*x1\n",
    "\n",
    "                if x[x1-1] == '1':\n",
    "                    v1=0\n",
    "                else:\n",
    "                    v1=1\n",
    "                \n",
    "\n",
    "\n",
    "            else:\n",
    "                \n",
    "                v1=int(x[x1-1])\n",
    "\n",
    "\n",
    "\n",
    "            if(x2<0):\n",
    "                x2=-1*x2\n",
    "                if x[x2-1] == '1':\n",
    "                    v2=0\n",
    "                else:\n",
    "                    v2=1\n",
    "                \n",
    "\n",
    "\n",
    "            else:\n",
    "                v2=int(x[x2-1])\n",
    "\n",
    "            if(x3<0):\n",
    "                x3=-1*x3\n",
    "                if x[x3-1] == '1':\n",
    "                    v3=0\n",
    "                else:\n",
    "                    v3=1\n",
    "                \n",
    "\n",
    "\n",
    "            else:\n",
    "                v3=int(x[x3-1])\n",
    "\n",
    "            result=v1 or v2 or v3\n",
    "            data1.loc[i,'value']=result\n",
    "            \n",
    "               \n",
    "            x4=data1.iloc[i,3]\n",
    "            if x4 == True :\n",
    "                y = y+1\n",
    "\n",
    "    #print(y)\n",
    "    return y"
   ]
  },
  {
   "cell_type": "markdown",
   "metadata": {},
   "source": [
    "#### HILL CLIMBING"
   ]
  },
  {
   "cell_type": "code",
   "execution_count": 12,
   "metadata": {
    "scrolled": true
   },
   "outputs": [
    {
     "name": "stdout",
     "output_type": "stream",
     "text": [
      "achieved maximum 373\n",
      "845100400152152934331135470250\n"
     ]
    }
   ],
   "source": [
    "z='1010101010101010101010101010101010101010101010101010101010101010101010101010101010101010101010101010'\n",
    "#z='1111111111111111111111111111111111111111111111111111111111111111111111111111111111111111111111101000'\n",
    "\n",
    "#print(len(z))\n",
    "#print(int(z,2))\n",
    "total1 = 0\n",
    "total2 = 0\n",
    "i=0\n",
    "while(total1 <= total2):\n",
    "    total1 = val111(z,data1)\n",
    "    \n",
    "    #print('total1',total1)\n",
    "    added=0\n",
    "    while(added ==0):\n",
    "        added=random.randint(-1,1)\n",
    "    \n",
    "    z1 = str(bin(int(z,2) + added))[2:]\n",
    "    total2 = val111(z1,data1)\n",
    "    #print('total2',total2)\n",
    "    if (total1<=total2):\n",
    "        z=z1\n",
    "    i+=1\n",
    "#print(i)\n",
    "    \n",
    "#z\n",
    "total = val111(z,data1)\n",
    "print('achieved maximum',total)\n",
    "\n",
    "#print(len(z))\n",
    "print(int(z,2))"
   ]
  },
  {
   "cell_type": "markdown",
   "metadata": {},
   "source": [
    "#### achieved maximum 373\n",
    "#### input (base10) 845100400152152934331135470250"
   ]
  },
  {
   "cell_type": "markdown",
   "metadata": {},
   "source": [
    "#### Simulated Annealing"
   ]
  },
  {
   "cell_type": "code",
   "execution_count": 13,
   "metadata": {
    "collapsed": true
   },
   "outputs": [],
   "source": [
    "def probability(change,temp):\n",
    "    \n",
    "    prob= math.exp((change)/temp)\n",
    "    #print(prob)\n",
    "    return prob\n",
    "\n"
   ]
  },
  {
   "cell_type": "markdown",
   "metadata": {},
   "source": [
    "#### Neighbourhood Size (-1000, 1000) with 100 cooling "
   ]
  },
  {
   "cell_type": "code",
   "execution_count": 14,
   "metadata": {},
   "outputs": [
    {
     "name": "stdout",
     "output_type": "stream",
     "text": [
      "initial_state 845100400152152934331135470250\n",
      "final state base 10 845100400152152934331135470992\n",
      "achieved maximum 379\n"
     ]
    }
   ],
   "source": [
    "initial_state='1010101010101010101010101010101010101010101010101010101010101010101010101010101010101010101010101010'\n",
    "print('initial_state',int(initial_state,2))\n",
    "total1=0\n",
    "total2=0\n",
    "temp=1\n",
    "\n",
    "for i in range(0,100):\n",
    "    total1=val111(initial_state,data1)\n",
    "    #print('total1',total1)\n",
    "    added=0\n",
    "    while(added ==0):\n",
    "        added=random.randint(-1000,1000)\n",
    "        \n",
    "    next_state=str(bin(int(z,2) + added))[2:]\n",
    "    #print('next_state',int(next_state,2))\n",
    "\n",
    "\n",
    "    total2=val111(next_state,data1)\n",
    "    #print('total2',total2)\n",
    "    \n",
    "    change=total2-total1\n",
    "   \n",
    "        \n",
    "    prob=probability(change,temp)\n",
    "    \n",
    "   \n",
    "    def probadjustes(prob):\n",
    "\n",
    "        if(prob>1):\n",
    "            prob=1\n",
    "        \n",
    "    \n",
    "        return prob\n",
    "    \n",
    "    probadj=probadjustes(prob)\n",
    "    \n",
    "    #print(probadj)\n",
    "    \n",
    "    variable_x=random.random()\n",
    "    \n",
    "    if(probadj>=variable_x):\n",
    "            initial_state=next_state\n",
    "            currentstate=initial_state\n",
    "            \n",
    "    temp=temp-0.01\n",
    "    #print(temp)\n",
    "    #print(i)\n",
    "\n",
    "total_XC=val111(currentstate,data1)\n",
    "#print(currentstate)\n",
    "print('final state base 10',int(currentstate,2))\n",
    "print('achieved maximum' ,total_XC)\n"
   ]
  },
  {
   "cell_type": "markdown",
   "metadata": {},
   "source": [
    "\n",
    "\n",
    "#### initial_state 845100400152152934331135470250\n",
    "#### final state base 10 845100400152152934331135470992\n",
    "#### achieved maximum 379"
   ]
  },
  {
   "cell_type": "markdown",
   "metadata": {},
   "source": [
    "#### Neighbourhood Size (-500, 500) with 1500 cooling "
   ]
  },
  {
   "cell_type": "code",
   "execution_count": 26,
   "metadata": {},
   "outputs": [
    {
     "name": "stdout",
     "output_type": "stream",
     "text": [
      "initial_state 845100400152152934331135470250\n",
      "final state base 10 845100400152152934331135469840\n",
      "achieved maximum 380\n"
     ]
    }
   ],
   "source": [
    "initial_state='1010101010101010101010101010101010101010101010101010101010101010101010101010101010101010101010101010'\n",
    "print('initial_state',int(initial_state,2))\n",
    "total1=0\n",
    "total2=0\n",
    "temp=1\n",
    "\n",
    "for i in range(0,1500):\n",
    "\n",
    "    total1=val111(initial_state,data1)\n",
    "    #print('total1',total1)\n",
    "    added=0\n",
    "    while(added ==0):\n",
    "        added=random.randint(-500,500)\n",
    "        \n",
    "    next_state=str(bin(int(z,2) + added))[2:]\n",
    "    #print('next_state',int(next_state,2))\n",
    "\n",
    "\n",
    "    total2=val111(next_state,data1)\n",
    "    #print('total2',total2)\n",
    "    \n",
    "    change=total2-total1\n",
    "   \n",
    "        \n",
    "    prob=probability(change,temp)\n",
    "    \n",
    "   \n",
    "    def probadjustes(prob):\n",
    "\n",
    "        if(prob>1):\n",
    "            prob=1\n",
    "        \n",
    "    \n",
    "        return prob\n",
    "    \n",
    "    probadj=probadjustes(prob)\n",
    "    \n",
    "    #print(probadj)\n",
    "    \n",
    "    variable_x=random.random()\n",
    "    \n",
    "    if(probadj>=variable_x):\n",
    "            initial_state=next_state\n",
    "            currentstate=initial_state\n",
    "            \n",
    "    temp=temp-(1/1500)\n",
    "    #print(temp)\n",
    "    #print(i)\n",
    "\n",
    "total_XC=val111(currentstate,data1)\n",
    "#print(currentstate)\n",
    "print('final state base 10',int(currentstate,2))\n",
    "print('achieved maximum',total_XC)\n",
    "\n"
   ]
  },
  {
   "cell_type": "markdown",
   "metadata": {
    "collapsed": true
   },
   "source": [
    " #### initial_state 845100400152152934331135470250\n",
    "#### final state base 10 845100400152152934331135469840\n",
    "##### achieved maximum 380 "
   ]
  },
  {
   "cell_type": "code",
   "execution_count": null,
   "metadata": {
    "collapsed": true
   },
   "outputs": [],
   "source": []
  },
  {
   "cell_type": "code",
   "execution_count": null,
   "metadata": {
    "collapsed": true
   },
   "outputs": [],
   "source": []
  }
 ],
 "metadata": {
  "kernelspec": {
   "display_name": "Python 3",
   "language": "python",
   "name": "python3"
  },
  "language_info": {
   "codemirror_mode": {
    "name": "ipython",
    "version": 3
   },
   "file_extension": ".py",
   "mimetype": "text/x-python",
   "name": "python",
   "nbconvert_exporter": "python",
   "pygments_lexer": "ipython3",
   "version": "3.6.3"
  }
 },
 "nbformat": 4,
 "nbformat_minor": 2
}
